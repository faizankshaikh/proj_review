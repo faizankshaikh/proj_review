{
 "cells": [
  {
   "cell_type": "markdown",
   "metadata": {},
   "source": [
    "## Should contain\n",
    "  * Whats pattern recog & detect?\n",
    "  * Why deep learning?\n",
    "  * Code"
   ]
  },
  {
   "cell_type": "markdown",
   "metadata": {},
   "source": [
    "## Notes\n",
    "\n",
    "\n",
    "  * ### Image Classification[1]\n",
    "    * Image classification is the task of assigning an input image one label from a fixed set of categories\n",
    "    * Challenges in Image classification\n",
    "        * Viewpoint variation\n",
    "        * Scale variation\n",
    "        * Deformation\n",
    "        * Occlusion\n",
    "        * Illumination conditions\n",
    "        * Background clutter\n",
    "        * Intra-class variation\n",
    "    * To solve this problems, we take a data-driven approach\n",
    "    * #### Classification pipeline\n",
    "        * Input : (aka) training data\n",
    "        * Learning : training a classifier\n",
    "        * Evaluation : testing our predictions\n",
    "  \n",
    "  * ### Neural Network\n",
    "    * Neural Networks are modeled as collections of neurons that are connected in an acyclic graph\n",
    "    * Cycles in NN are not allowed\n",
    "    * Activation functions of a NN\n",
    "        1. Sigmoid : $$\\sigma(x) = 1 / (1 + e^{-x})$$\n",
    "        2. Tanh : $$\\tanh(x)$$\n",
    "        3. ReLU : $$\\max(0, x)$$\n",
    "        4. Leaky ReLU : $$1(x < 0)(\\alpha x) + 1(x >= 0)(x)$$\n",
    "        5. Maxout : $$\\max(\\omega_1 ^T + b_1, \\omega_2 ^T x + b_2)$$\n",
    "        \n",
    "        \n",
    "  * ### Convolutional Neural Network\n",
    "    * A ConvNet is a list of layers that transform the image volume into an output volume through a differentable function\n",
    "    * Types of layers\n",
    "        * Convolutional Layer\n",
    "        * Pooling Layer\n",
    "        * Normalization layer\n",
    "        * Fully-connected layer\n",
    "        \n",
    "  * References\n",
    "      1. http://cs231n.github.io/classification/ , http://cs231n.github.io/neural-networks-1/ , http://cs231n.github.io/convolutional-networks/ \n",
    "      2. [A few useful things to know about machine learning](http://homes.cs.washington.edu/~pedrod/papers/cacm12.pdf)\n",
    "      3. [Recognizing and learning object categories](http://people.csail.mit.edu/torralba/shortCourseRLOC/index.html)"
   ]
  },
  {
   "cell_type": "code",
   "execution_count": null,
   "metadata": {
    "collapsed": true
   },
   "outputs": [],
   "source": []
  }
 ],
 "metadata": {
  "kernelspec": {
   "display_name": "Python 2",
   "language": "python",
   "name": "python2"
  },
  "language_info": {
   "codemirror_mode": {
    "name": "ipython",
    "version": 2
   },
   "file_extension": ".py",
   "mimetype": "text/x-python",
   "name": "python",
   "nbconvert_exporter": "python",
   "pygments_lexer": "ipython2",
   "version": "2.7.10"
  }
 },
 "nbformat": 4,
 "nbformat_minor": 0
}
