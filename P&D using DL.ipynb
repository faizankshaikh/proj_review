{
 "cells": [
  {
   "cell_type": "markdown",
   "metadata": {},
   "source": [
    "## Should contain\n",
    "  * Whats pattern recog & detect?\n",
    "  * Why deep learning?\n",
    "  * Code"
   ]
  },
  {
   "cell_type": "markdown",
   "metadata": {},
   "source": [
    "## Notes\n",
    "\n",
    "\n",
    "  * ### [Image Classification](http://cs231n.github.io/classification/)\n",
    "    * Image classification is the task of assigning an input image one label from a fixed set of categories\n",
    "    * Challenges in Image classification\n",
    "        * Viewpoint variation\n",
    "        * Scale variation\n",
    "        * Deformation\n",
    "        * Occlusion\n",
    "        * Illumination conditions\n",
    "        * Background clutter\n",
    "        * Intra-class variation"
   ]
  },
  {
   "cell_type": "code",
   "execution_count": null,
   "metadata": {
    "collapsed": true
   },
   "outputs": [],
   "source": []
  }
 ],
 "metadata": {
  "kernelspec": {
   "display_name": "Python 2",
   "language": "python",
   "name": "python2"
  },
  "language_info": {
   "codemirror_mode": {
    "name": "ipython",
    "version": 2
   },
   "file_extension": ".py",
   "mimetype": "text/x-python",
   "name": "python",
   "nbconvert_exporter": "python",
   "pygments_lexer": "ipython2",
   "version": "2.7.10"
  }
 },
 "nbformat": 4,
 "nbformat_minor": 0
}
