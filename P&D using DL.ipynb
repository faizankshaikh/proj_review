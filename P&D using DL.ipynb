{
 "cells": [
  {
   "cell_type": "markdown",
   "metadata": {},
   "source": [
    "# Implementation"
   ]
  },
  {
   "cell_type": "code",
   "execution_count": 1,
   "metadata": {
    "collapsed": false
   },
   "outputs": [
    {
     "name": "stderr",
     "output_type": "stream",
     "text": [
      "Using gpu device 0: GeForce GT 740M (CNMeM is disabled)\n"
     ]
    }
   ],
   "source": [
    "# Import all modules\n",
    "import random\n",
    "import pylab\n",
    "import pickle as pkl\n",
    "from PIL import Image\n",
    "import numpy as np\n",
    "import pandas as pd\n",
    "from lasagne import layers\n",
    "from theano.tensor.nnet import softmax\n",
    "from nolearn.lasagne import NeuralNet\n",
    "from nolearn.lasagne import BatchIterator"
   ]
  },
  {
   "cell_type": "code",
   "execution_count": 2,
   "metadata": {
    "collapsed": false
   },
   "outputs": [],
   "source": [
    "# Load train and test set\n",
    "train = pd.read_csv(\"train.csv\")\n",
    "test = pd.read_csv(\"test.csv\")"
   ]
  },
  {
   "cell_type": "code",
   "execution_count": 6,
   "metadata": {
    "collapsed": false
   },
   "outputs": [
    {
     "data": {
      "image/png": "[encoded data removed]",
      "text/plain": [
       "<matplotlib.figure.Figure at 0x7fa08e801dd0>"
      ]
     },
     "metadata": {},
     "output_type": "display_data"
    }
   ],
   "source": [
    "# Visualizing Training Dataset\n",
    "%matplotlib inline\n",
    "import random\n",
    "i = random.randrange(0, 42000)\n",
    "img = np.asarray(train.ix[i, 1:])\n",
    "img = img.reshape(28, 28)\n",
    "pylab.imshow(img)\n",
    "pylab.gray(); pylab.axis('off')\n",
    "pylab.show()\n",
    "\n",
    "#print \"-----------------------------\"\n",
    "#print train.head(5)\n",
    "#print \"-----------------------------\"\n",
    "#print train.count()"
   ]
  },
  {
   "cell_type": "code",
   "execution_count": 10,
   "metadata": {
    "collapsed": true
   },
   "outputs": [],
   "source": [
    "# Preprocessing step\n",
    "# Normalizing image\n",
    "train_labels = train.ix[:, 0].values.astype(np.int32)\n",
    "train_images = train.ix[:, 1:].values.astype(np.float32)\n",
    "train_images /= train_images.std(axis = None)\n",
    "train_images -= train_images.mean()\n",
    "\n",
    "test_images = test.values.astype(np.float32)\n",
    "test_images /= test_images.std(axis = None)\n",
    "test_images -= test_images.mean()"
   ]
  },
  {
   "cell_type": "code",
   "execution_count": 11,
   "metadata": {
    "collapsed": false
   },
   "outputs": [],
   "source": [
    "# Setting architecture of NN\n",
    "net = NeuralNet(\n",
    "        layers = [\n",
    "            ('input', layers.InputLayer),\n",
    "            ('conv1', layers.Conv2DLayer),\n",
    "            ('pool1', layers.MaxPool2DLayer),\n",
    "            ('dropout1', layers.DropoutLayer),\n",
    "            ('conv2', layers.Conv2DLayer),\n",
    "            ('pool2', layers.MaxPool2DLayer),\n",
    "            ('dropout2', layers.DropoutLayer),\n",
    "            ('hidden3', layers.DenseLayer),\n",
    "            ('output', layers.DenseLayer),\n",
    "        ],\n",
    "    \n",
    "        input_shape = (None, 1, 28, 28),\n",
    "        conv1_num_filters = 32, conv1_filter_size = (3, 3),\n",
    "        pool1_pool_size = (2, 2),\n",
    "        dropout1_p = 0.2,\n",
    "        conv2_num_filters = 32, conv2_filter_size = (3, 3),\n",
    "        pool2_pool_size = (2, 2),\n",
    "        dropout2_p = 0.2,\n",
    "        hidden3_num_units = 32,\n",
    "        output_num_units = 10, output_nonlinearity = softmax,\n",
    "    \n",
    "        batch_iterator_train = BatchIterator(batch_size = 150),\n",
    "        batch_iterator_test = BatchIterator(batch_size = 150),\n",
    "    \n",
    "        update_learning_rate = 0.01,\n",
    "        update_momentum = 0.9,\n",
    "    \n",
    "        use_label_encoder = True,\n",
    "        regression = False,\n",
    "        max_epochs = 10,\n",
    "        verbose = 1,\n",
    "    )"
   ]
  },
  {
   "cell_type": "code",
   "execution_count": 12,
   "metadata": {
    "collapsed": false
   },
   "outputs": [],
   "source": [
    "# Reshape dataset to fit to NN\n",
    "X = train_images.reshape(-1, 1, 28, 28)\n",
    "y = train_labels\n",
    "\n",
    "test_x = test_images.reshape(-1, 1, 28, 28)"
   ]
  },
  {
   "cell_type": "code",
   "execution_count": 13,
   "metadata": {
    "collapsed": false
   },
   "outputs": [
    {
     "name": "stdout",
     "output_type": "stream",
     "text": [
      "# Neural Network with 35530 learnable parameters\n",
      "\n",
      "## Layer information\n",
      "\n",
      "  #  name      size\n",
      "---  --------  --------\n",
      "  0  input     1x28x28\n",
      "  1  conv1     32x26x26\n",
      "  2  pool1     32x13x13\n",
      "  3  dropout1  32x13x13\n",
      "  4  conv2     32x11x11\n",
      "  5  pool2     32x5x5\n",
      "  6  dropout2  32x5x5\n",
      "  7  hidden3   32\n",
      "  8  output    10\n",
      "\n",
      "  epoch    train loss    valid loss    train/val    valid acc  dur\n",
      "-------  ------------  ------------  -----------  -----------  ------\n",
      "      1       \u001b[36m0.55397\u001b[0m       \u001b[32m0.14749\u001b[0m      3.75598      0.95684  15.76s\n",
      "      2       \u001b[36m0.15068\u001b[0m       \u001b[32m0.10081\u001b[0m      1.49478      0.96819  15.69s\n",
      "      3       \u001b[36m0.11031\u001b[0m       \u001b[32m0.08234\u001b[0m      1.33966      0.97345  15.70s\n",
      "      4       \u001b[36m0.09086\u001b[0m       \u001b[32m0.07612\u001b[0m      1.19361      0.97509  16.05s\n",
      "      5       \u001b[36m0.07868\u001b[0m       \u001b[32m0.06575\u001b[0m      1.19667      0.97778  15.66s\n",
      "      6       \u001b[36m0.07038\u001b[0m       \u001b[32m0.05843\u001b[0m      1.20442      0.98082  15.66s\n",
      "      7       \u001b[36m0.06395\u001b[0m       \u001b[32m0.05584\u001b[0m      1.14527      0.98175  15.66s\n",
      "      8       \u001b[36m0.05801\u001b[0m       \u001b[32m0.05387\u001b[0m      1.07675      0.98175  15.66s\n",
      "      9       \u001b[36m0.05490\u001b[0m       \u001b[32m0.04913\u001b[0m      1.11755      0.98304  15.66s\n",
      "     10       \u001b[36m0.05010\u001b[0m       \u001b[32m0.04637\u001b[0m      1.08043      0.98480  15.66s\n"
     ]
    },
    {
     "data": {
      "text/plain": [
       "NeuralNet(X_tensor_type=None,\n",
       "     batch_iterator_test=<nolearn.lasagne.base.BatchIterator object at 0x7fa08ca7b110>,\n",
       "     batch_iterator_train=<nolearn.lasagne.base.BatchIterator object at 0x7fa08ca7b510>,\n",
       "     conv1_filter_size=(3, 3), conv1_num_filters=32,\n",
       "     conv2_filter_size=(3, 3), conv2_num_filters=32, custom_score=None,\n",
       "     dropout1_p=0.2, dropout2_p=0.2, hidden3_num_units=32,\n",
       "     input_shape=(None, 1, 28, 28),\n",
       "     layers=[('input', <class 'lasagne.layers.input.InputLayer'>), ('conv1', <class 'lasagne.layers.conv.Conv2DLayer'>), ('pool1', <class 'lasagne.layers.pool.MaxPool2DLayer'>), ('dropout1', <class 'lasagne.layers.noise.DropoutLayer'>), ('conv2', <class 'lasagne.layers.conv.Conv2DLayer'>), ('pool2', <cla..., <class 'lasagne.layers.dense.DenseLayer'>), ('output', <class 'lasagne.layers.dense.DenseLayer'>)],\n",
       "     loss=None, max_epochs=10, more_params={},\n",
       "     objective=<function objective at 0x7fa08d2376e0>,\n",
       "     objective_loss_function=<function categorical_crossentropy at 0x7fa08e1bf9b0>,\n",
       "     on_batch_finished=[],\n",
       "     on_epoch_finished=[<nolearn.lasagne.handlers.PrintLog instance at 0x7fa08ca253b0>],\n",
       "     on_training_finished=[],\n",
       "     on_training_started=[<nolearn.lasagne.handlers.PrintLayerInfo instance at 0x7fa08ca253f8>],\n",
       "     output_nonlinearity=<function softmax at 0x7fa09bea7488>,\n",
       "     output_num_units=10, pool1_pool_size=(2, 2), pool2_pool_size=(2, 2),\n",
       "     regression=False,\n",
       "     train_split=<nolearn.lasagne.base.TrainSplit object at 0x7fa08d22fb10>,\n",
       "     update=<function nesterov_momentum at 0x7fa08dd3b140>,\n",
       "     update_learning_rate=0.01, update_momentum=0.9,\n",
       "     use_label_encoder=True, verbose=1,\n",
       "     y_tensor_type=TensorType(int32, vector))"
      ]
     },
     "execution_count": 13,
     "metadata": {},
     "output_type": "execute_result"
    }
   ],
   "source": [
    "# Train NN\n",
    "net.fit(X, y)"
   ]
  },
  {
   "cell_type": "code",
   "execution_count": 14,
   "metadata": {
    "collapsed": false
   },
   "outputs": [],
   "source": [
    "# Saving model\n",
    "import pickle as pkl\n",
    "f = open('/home/faizy/model.pkl', 'wb')\n",
    "pkl.dump(net, f)"
   ]
  },
  {
   "cell_type": "code",
   "execution_count": 15,
   "metadata": {
    "collapsed": true
   },
   "outputs": [],
   "source": [
    "# Output prediction\n",
    "f = open('/home/faizy/model.pkl', 'rb')\n",
    "netter = pkl.load(f)\n",
    "pred = netter.predict(test_x)"
   ]
  },
  {
   "cell_type": "code",
   "execution_count": 18,
   "metadata": {
    "collapsed": false
   },
   "outputs": [
    {
     "data": {
      "image/png": "[encoded data removed]",
      "text/plain": [
       "<matplotlib.figure.Figure at 0x7fa058b82050>"
      ]
     },
     "metadata": {},
     "output_type": "display_data"
    },
    {
     "name": "stdout",
     "output_type": "stream",
     "text": [
      "--------------\n",
      "PREDICTION:  7\n"
     ]
    }
   ],
   "source": [
    "# Visualizing output\n",
    "%matplotlib inline\n",
    "import random\n",
    "i = random.randrange(0, 28000)\n",
    "img = np.asarray(test.ix[i])\n",
    "img = img.reshape(28, 28)\n",
    "pylab.imshow(img)\n",
    "pylab.gray(); pylab.axis('off')\n",
    "pylab.show()\n",
    "print '--------------'\n",
    "print 'PREDICTION: ', pred[i]"
   ]
  }
 ],
 "metadata": {
  "kernelspec": {
   "display_name": "Python 2",
   "language": "python",
   "name": "python2"
  },
  "language_info": {
   "codemirror_mode": {
    "name": "ipython",
    "version": 2
   },
   "file_extension": ".py",
   "mimetype": "text/x-python",
   "name": "python",
   "nbconvert_exporter": "python",
   "pygments_lexer": "ipython2",
   "version": "2.7.10"
  }
 },
 "nbformat": 4,
 "nbformat_minor": 0
}
