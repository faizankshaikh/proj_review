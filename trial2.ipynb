{
 "cells": [
  {
   "cell_type": "markdown",
   "metadata": {},
   "source": [
    "## HEADING"
   ]
  },
  {
   "cell_type": "code",
   "execution_count": 2,
   "metadata": {
    "collapsed": false
   },
   "outputs": [
    {
     "name": "stderr",
     "output_type": "stream",
     "text": [
      "Using gpu device 0: GeForce GT 740M (CNMeM is disabled)\n"
     ]
    }
   ],
   "source": [
    "# import modules\n",
    "import random\n",
    "import pylab\n",
    "import pandas as pd\n",
    "import numpy as np\n",
    "import cPickle as pkl\n",
    "from PIL import Image\n",
    "import matplotlib.pyplot as plt\n",
    "from lasagne import layers\n",
    "from lasagne.updates import nesterov_momentum\n",
    "from theano.tensor.nnet import softmax\n",
    "from nolearn.lasagne import NeuralNet\n",
    "from nolearn.lasagne import BatchIterator"
   ]
  },
  {
   "cell_type": "code",
   "execution_count": 3,
   "metadata": {
    "collapsed": true
   },
   "outputs": [],
   "source": [
    "# extra functions\n",
    "def unpickle(filer):\n",
    "    f = open(filer, 'rb')\n",
    "    d_dict = pkl.load(f)\n",
    "    f.close()\n",
    "    return d_dict"
   ]
  },
  {
   "cell_type": "code",
   "execution_count": 4,
   "metadata": {
    "collapsed": false
   },
   "outputs": [],
   "source": [
    "# load train-test set\n",
    "# cifar\n",
    "train_dict = unpickle('/home/faizy/workspace/cifar/cifar-10-batches-py/data_batch_1')\n",
    "train2_images = train_dict['data'].astype('float32')\n",
    "train2_y = np.zeros((10000, )).astype('int')\n",
    "test_dict = unpickle('/home/faizy/workspace/cifar/cifar-10-batches-py/test_batch')\n",
    "test2_images = test_dict['data'].astype('float32')\n",
    "\n",
    "# mnist\n",
    "train1 = pd.read_csv(\"train.csv\")\n",
    "test1 = pd.read_csv(\"test.csv\")"
   ]
  },
  {
   "cell_type": "code",
   "execution_count": 5,
   "metadata": {
    "collapsed": false,
    "scrolled": false
   },
   "outputs": [
    {
     "data": {
      "text/plain": [
       "(-0.5, 31.5, 31.5, -0.5)"
      ]
     },
     "execution_count": 5,
     "metadata": {},
     "output_type": "execute_result"
    },
    {
     "data": {
      "image/png": "[encoded data removed]",
      "text/plain": [
       "<matplotlib.figure.Figure at 0x7f90b47ee250>"
      ]
     },
     "metadata": {},
     "output_type": "display_data"
    }
   ],
   "source": [
    "# visualize train set\n",
    "# cifar\n",
    "%matplotlib inline\n",
    "i = random.randrange(0, 10000)\n",
    "img = train2_images[i, :]\n",
    "img = img.reshape(3, 32, 32).transpose(1, 2, 0)\n",
    "pylab.imshow(img[:, :, 0])\n",
    "pylab.gray()\n",
    "pylab.axis('off')"
   ]
  },
  {
   "cell_type": "code",
   "execution_count": 6,
   "metadata": {
    "collapsed": false
   },
   "outputs": [],
   "source": [
    "# preprocess\n",
    "# cifar\n",
    "train2_images /= train2_images.std(axis = None)\n",
    "train2_images -= train2_images.mean()\n",
    "\n",
    "test2_images /= test2_images.std(axis = None)\n",
    "test2_images -= test2_images.mean()\n",
    "\n",
    "# mnist\n",
    "train1_labels = np.ones((42000, )).astype(np.int32)\n",
    "train1_images = train1.ix[:, 1:].values.astype(np.float32)\n",
    "train1_images /= train1_images.std(axis = None)\n",
    "train1_images -= train1_images.mean()\n",
    "\n",
    "test1_images = test1.values.astype(np.float32)\n",
    "test1_images /= test1_images.std(axis = None)\n",
    "test1_images -= test1_images.mean()"
   ]
  },
  {
   "cell_type": "code",
   "execution_count": 7,
   "metadata": {
    "collapsed": false
   },
   "outputs": [],
   "source": [
    "# reshape dataset\n",
    "# cifar\n",
    "# grayscaling and cropping to size\n",
    "train2_x_rgb = train2_images.reshape(-1, 3, 32, 32).transpose(0, 2, 3, 1)\n",
    "\n",
    "train2_x = np.zeros((10000, 1, 32, 32))\n",
    "for i in range(10000):\n",
    "    train2_x[i, :, :, :] = np.dot(train2_x_rgb[i, :, :, :], [0.299, 0.587, 0.144])\n",
    "\n",
    "train2_x = train2_x[:, :, 2:30, 2:30]\n",
    "\n",
    "test2_x_rgb = test2_images.reshape(-1, 3, 32, 32).transpose(0, 2, 3, 1)\n",
    "\n",
    "test2_x = np.zeros((10000, 1, 32, 32))\n",
    "for i in range(10000):\n",
    "    test2_x[i, :, :, :] = np.dot(test2_x_rgb[i, :, :, :], [0.299, 0.587, 0.144])\n",
    "\n",
    "test2_x = test2_x[:, :, 2:30, 2:30]\n",
    "\n",
    "# mnist\n",
    "train1_x = train1_images.reshape(-1, 1, 28, 28)\n",
    "train1_y = train1_labels\n",
    "\n",
    "test1_x = test1_images.reshape(-1, 1, 28, 28)"
   ]
  },
  {
   "cell_type": "code",
   "execution_count": 8,
   "metadata": {
    "collapsed": false
   },
   "outputs": [],
   "source": [
    "# finally\n",
    "train_x = np.vstack((train1_x, train2_x))\n",
    "\n",
    "train_y = np.concatenate([train1_y, train2_y])\n",
    "\n",
    "test_x = np.vstack((test1_x, test2_x))"
   ]
  },
  {
   "cell_type": "code",
   "execution_count": 9,
   "metadata": {
    "collapsed": false
   },
   "outputs": [],
   "source": [
    "# check again\n",
    "train_x = train_x.astype('float32')\n",
    "test_x = test_x.astype('float32')"
   ]
  },
  {
   "cell_type": "code",
   "execution_count": 10,
   "metadata": {
    "collapsed": true
   },
   "outputs": [],
   "source": [
    "# setting nn \n",
    "net = NeuralNet(\n",
    "    layers = [\n",
    "        ('input', layers.InputLayer),\n",
    "        ('conv1', layers.Conv2DLayer),\n",
    "        ('pool1', layers.MaxPool2DLayer),\n",
    "        ('dropout1', layers.DropoutLayer),\n",
    "        ('conv2', layers.Conv2DLayer),\n",
    "        ('pool2', layers.MaxPool2DLayer),\n",
    "        ('dropout2', layers.DropoutLayer),\n",
    "        ('hidden3', layers.DenseLayer),\n",
    "        ('output', layers.DenseLayer),\n",
    "    ],\n",
    "\n",
    "    input_shape = (None, 1, 28, 28),\n",
    "    conv1_num_filters = 32, conv1_filter_size = (3, 3),\n",
    "    pool1_pool_size = (2, 2),\n",
    "    dropout1_p = 0.2,\n",
    "    conv2_num_filters = 32, conv2_filter_size = (2, 2),\n",
    "    pool2_pool_size = (2, 2),\n",
    "    dropout2_p = 0.2,\n",
    "    hidden3_num_units = 32,\n",
    "    output_num_units = 2, output_nonlinearity = softmax,\n",
    "\n",
    "    batch_iterator_train = BatchIterator(batch_size = 1000),\n",
    "    batch_iterator_test = BatchIterator(batch_size = 1000),\n",
    "\n",
    "    update=nesterov_momentum,\n",
    "    update_learning_rate = 0.003,\n",
    "    update_momentum = 0.9,\n",
    "\n",
    "    use_label_encoder = True,\n",
    "    regression = False,\n",
    "    max_epochs = 10,\n",
    "    verbose = 1,\n",
    ")"
   ]
  },
  {
   "cell_type": "code",
   "execution_count": 11,
   "metadata": {
    "collapsed": false
   },
   "outputs": [
    {
     "name": "stdout",
     "output_type": "stream",
     "text": [
      "# Neural Network with 41410 learnable parameters\n",
      "\n",
      "## Layer information\n",
      "\n",
      "  #  name      size\n",
      "---  --------  --------\n",
      "  0  input     1x28x28\n",
      "  1  conv1     32x26x26\n",
      "  2  pool1     32x13x13\n",
      "  3  dropout1  32x13x13\n",
      "  4  conv2     32x12x12\n",
      "  5  pool2     32x6x6\n",
      "  6  dropout2  32x6x6\n",
      "  7  hidden3   32\n",
      "  8  output    2\n",
      "\n",
      "  epoch    train loss    valid loss    train/val    valid acc  dur\n",
      "-------  ------------  ------------  -----------  -----------  ------\n",
      "      1       \u001b[36m0.45422\u001b[0m       \u001b[32m0.66413\u001b[0m      0.68393      0.68641  17.76s\n",
      "      2       0.64886       \u001b[32m0.34135\u001b[0m      1.90090      0.78223  18.14s\n",
      "      3       \u001b[36m0.23455\u001b[0m       \u001b[32m0.18606\u001b[0m      1.26065      0.95282  18.11s\n",
      "      4       \u001b[36m0.14996\u001b[0m       \u001b[32m0.10555\u001b[0m      1.42077      0.97705  18.50s\n",
      "      5       \u001b[36m0.09773\u001b[0m       \u001b[32m0.07103\u001b[0m      1.37593      0.98636  18.47s\n"
     ]
    }
   ],
   "source": [
    "# train and test nn\n",
    "net.fit(train_x, train_y)\n",
    "pred = net.predict(test_x)"
   ]
  },
  {
   "cell_type": "code",
   "execution_count": 13,
   "metadata": {
    "collapsed": false
   },
   "outputs": [
    {
     "name": "stdout",
     "output_type": "stream",
     "text": [
      "--------------\n",
      "It is a number\n"
     ]
    },
    {
     "data": {
      "image/png": "[encoded data removed]",
      "text/plain": [
       "<matplotlib.figure.Figure at 0x7f9053d4b150>"
      ]
     },
     "metadata": {},
     "output_type": "display_data"
    }
   ],
   "source": [
    "# visualize output\n",
    "%matplotlib inline\n",
    "i = random.randrange(0, 28000)\n",
    "img = test_x[i, :]\n",
    "img = img.reshape(28, 28)\n",
    "pylab.imshow(img)\n",
    "pylab.gray()\n",
    "pylab.axis('off')\n",
    "print '--------------'\n",
    "if pred[i] == 1:\n",
    "    print \"It is a number\"\n",
    "else:\n",
    "    print \"It is NOT a number\""
   ]
  },
  {
   "cell_type": "code",
   "execution_count": 16,
   "metadata": {
    "collapsed": false
   },
   "outputs": [
    {
     "name": "stdout",
     "output_type": "stream",
     "text": [
      "--------------\n",
      "It is NOT a number\n"
     ]
    },
    {
     "data": {
      "image/png": "[encoded data removed]",
      "text/plain": [
       "<matplotlib.figure.Figure at 0x7f90430efe90>"
      ]
     },
     "metadata": {},
     "output_type": "display_data"
    }
   ],
   "source": [
    "# visualize output\n",
    "%matplotlib inline\n",
    "i = random.randrange(28000, 38000)\n",
    "img = test_x[i, :]\n",
    "img = img.reshape(28, 28)\n",
    "pylab.imshow(img)\n",
    "pylab.gray()\n",
    "pylab.axis('off')\n",
    "print '--------------'\n",
    "if pred[i] == 1:\n",
    "    print \"It is a number\"\n",
    "else:\n",
    "    print \"It is NOT a number\""
   ]
  },
  {
   "cell_type": "code",
   "execution_count": null,
   "metadata": {
    "collapsed": true
   },
   "outputs": [],
   "source": []
  }
 ],
 "metadata": {
  "kernelspec": {
   "display_name": "Python 2",
   "language": "python",
   "name": "python2"
  },
  "language_info": {
   "codemirror_mode": {
    "name": "ipython",
    "version": 2
   },
   "file_extension": ".py",
   "mimetype": "text/x-python",
   "name": "python",
   "nbconvert_exporter": "python",
   "pygments_lexer": "ipython2",
   "version": "2.7.11"
  }
 },
 "nbformat": 4,
 "nbformat_minor": 0
}
